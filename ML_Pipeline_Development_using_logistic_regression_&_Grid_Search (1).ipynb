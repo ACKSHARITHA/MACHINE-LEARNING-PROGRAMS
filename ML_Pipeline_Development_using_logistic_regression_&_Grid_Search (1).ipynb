{
  "cells": [
    {
      "cell_type": "code",
      "execution_count": 27,
      "metadata": {
        "id": "m5ajUkRZBlS1"
      },
      "outputs": [],
      "source": [
        "# Import Libraries\n",
        "import pandas as pd\n",
        "from sklearn.model_selection import train_test_split\n",
        "from sklearn.compose import ColumnTransformer\n",
        "from sklearn.pipeline import Pipeline\n",
        "from sklearn.preprocessing import StandardScaler, OneHotEncoder\n",
        "from sklearn.impute import SimpleImputer\n",
        "import seaborn as sns"
      ]
    },
    {
      "cell_type": "code",
      "execution_count": 28,
      "metadata": {
        "colab": {
          "base_uri": "https://localhost:8080/"
        },
        "id": "K48WlIMhBpFY",
        "outputId": "fceca7e6-c546-4bbf-e69a-56847fa795a9"
      },
      "outputs": [
        {
          "name": "stdout",
          "output_type": "stream",
          "text": [
            "✅ Data Preprocessing Completed Successfully\n",
            "Train Shape: (712, 7)\n",
            "Test Shape: (179, 7)\n"
          ]
        }
      ],
      "source": [
        "# Load Dataset\n",
        "df = sns.load_dataset(\"titanic\")\n",
        "\n",
        "# Drop columns not useful for modeling\n",
        "df = df.drop(columns=[\"deck\", \"embark_town\", \"alive\", \"class\", \"who\", \"adult_male\", \"alone\"])\n",
        "\n",
        "# Drop rows where the target variable is missing\n",
        "df.dropna(subset=[\"survived\"], inplace=True)\n",
        "\n",
        "# Define Features and Target\n",
        "X = df.drop(\"survived\", axis=1)\n",
        "y = df[\"survived\"]\n",
        "\n",
        "# Identify Column Types\n",
        "numerical_cols = X.select_dtypes(include=[\"int64\", \"float64\"]).columns.tolist()\n",
        "categorical_cols = X.select_dtypes(include=[\"object\", \"bool\", \"category\"]).columns.tolist()\n",
        "\n",
        "# Define Preprocessing for Numeric & Categorical Columns\n",
        "numeric_preprocessing = Pipeline(steps=[\n",
        "    (\"imputer\", SimpleImputer(strategy=\"median\")),\n",
        "    (\"scaler\", StandardScaler())\n",
        "])\n",
        "\n",
        "categorical_preprocessing = Pipeline(steps=[\n",
        "    (\"imputer\", SimpleImputer(strategy=\"most_frequent\")),\n",
        "    (\"encoder\", OneHotEncoder(handle_unknown=\"ignore\"))\n",
        "])\n",
        "\n",
        "# Combine Preprocessing\n",
        "preprocessor = ColumnTransformer(transformers=[\n",
        "    (\"num\", numeric_preprocessing, numerical_cols),\n",
        "    (\"cat\", categorical_preprocessing, categorical_cols)\n",
        "])\n",
        "\n",
        "# Split Data into Train/Test Sets\n",
        "X_train, X_test, y_train, y_test = train_test_split(\n",
        "    X, y, test_size=0.2, random_state=42, stratify=y)\n",
        "\n",
        "print(\"✅ Data Preprocessing Completed Successfully\")\n",
        "print(\"Train Shape:\", X_train.shape)\n",
        "print(\"Test Shape:\", X_test.shape)\n"
      ]
    },
    {
      "cell_type": "code",
      "execution_count": 9,
      "metadata": {
        "id": "Wk6EC7vqE9Z4"
      },
      "outputs": [],
      "source": [
        "# Model Building with Logistic Regression\n",
        "# Import necessary libraries\n",
        "import pandas as pd\n",
        "from sklearn.model_selection import train_test_split, GridSearchCV\n",
        "from sklearn.pipeline import Pipeline\n",
        "from sklearn.compose import ColumnTransformer\n",
        "from sklearn.preprocessing import StandardScaler, OneHotEncoder\n",
        "from sklearn.impute import SimpleImputer\n",
        "from sklearn.linear_model import LogisticRegression\n",
        "from sklearn.metrics import classification_report\n",
        "\n",
        "# Load example dataset (Titanic from seaborn)\n",
        "import seaborn as sns\n",
        "df = sns.load_dataset(\"titanic\")\n",
        "\n",
        "# Drop irrelevant or redundant columns\n",
        "df = df.drop(columns=[\"deck\", \"embark_town\", \"alive\", \"who\", \"class\", \"adult_male\", \"alone\"])\n",
        "\n",
        "# Drop rows with missing target\n",
        "df.dropna(subset=[\"survived\"], inplace=True)\n"
      ]
    },
    {
      "cell_type": "code",
      "execution_count": 10,
      "metadata": {
        "colab": {
          "base_uri": "https://localhost:8080/"
        },
        "id": "jhzkVx-CGS5Z",
        "outputId": "3d3184ba-54ce-4238-97e6-adfb0c9c6a70"
      },
      "outputs": [
        {
          "name": "stdout",
          "output_type": "stream",
          "text": [
            "Best Hyperparameters: {'classifier__C': 0.1, 'classifier__penalty': 'l2'}\n",
            "\n",
            "Classification Report:\n",
            "              precision    recall  f1-score   support\n",
            "\n",
            "           0       0.82      0.87      0.85       549\n",
            "           1       0.77      0.70      0.73       342\n",
            "\n",
            "    accuracy                           0.81       891\n",
            "   macro avg       0.80      0.79      0.79       891\n",
            "weighted avg       0.80      0.81      0.80       891\n",
            "\n"
          ]
        }
      ],
      "source": [
        "# Split features and target\n",
        "X = df.drop(\"survived\", axis=1)\n",
        "y = df[\"survived\"]\n",
        "\n",
        "# Identify column types\n",
        "numerical_cols = X.select_dtypes(include=[\"int64\", \"float64\"]).columns.tolist()\n",
        "categorical_cols = X.select_dtypes(include=[\"object\", \"bool\", \"category\"]).columns.tolist()\n",
        "\n",
        "# Preprocessing for numeric features\n",
        "numeric_transformer = Pipeline(steps=[\n",
        "    (\"imputer\", SimpleImputer(strategy=\"median\")),\n",
        "    (\"scaler\", StandardScaler())\n",
        "])\n",
        "\n",
        "# Preprocessing for categorical features\n",
        "categorical_transformer = Pipeline(steps=[\n",
        "    (\"imputer\", SimpleImputer(strategy=\"most_frequent\")),\n",
        "    (\"onehot\", OneHotEncoder(handle_unknown=\"ignore\"))\n",
        "])\n",
        "\n",
        "# Column transformer for full preprocessing\n",
        "preprocessor = ColumnTransformer(transformers=[\n",
        "    (\"num\", numeric_transformer, numerical_cols),\n",
        "    (\"cat\", categorical_transformer, categorical_cols)\n",
        "])\n",
        "\n",
        "# Create ML pipeline with Logistic Regression\n",
        "pipe = Pipeline(steps=[\n",
        "    (\"preprocessor\", preprocessor),\n",
        "    (\"classifier\", LogisticRegression(max_iter=1000, solver='liblinear'))\n",
        "])\n",
        "\n",
        "# Define hyperparameter grid\n",
        "param_grid = {\n",
        "    \"classifier__C\": [0.01, 0.1, 1, 10],\n",
        "    \"classifier__penalty\": [\"l1\", \"l2\"]\n",
        "}\n",
        "\n",
        "# Grid Search with Cross Validation\n",
        "grid_search = GridSearchCV(pipe, param_grid, cv=5, scoring=\"accuracy\", n_jobs=-1)\n",
        "grid_search.fit(X, y)\n",
        "\n",
        "# Display best hyperparameters\n",
        "print(\"Best Hyperparameters:\", grid_search.best_params_)\n",
        "\n",
        "# Final model\n",
        "final_model = grid_search.best_estimator_\n",
        "\n",
        "# Evaluate with classification report (on same data for demonstration)\n",
        "y_pred = final_model.predict(X)\n",
        "print(\"\\nClassification Report:\")\n",
        "print(classification_report(y, y_pred))"
      ]
    },
    {
      "cell_type": "code",
      "execution_count": 12,
      "metadata": {
        "id": "_PhNqzUVHqwB"
      },
      "outputs": [],
      "source": [
        "#  Model Evaluation\n",
        "# Required libraries\n",
        "import matplotlib.pyplot as plt\n",
        "import seaborn as sns\n",
        "from sklearn.metrics import (\n",
        "    confusion_matrix,\n",
        "    classification_report,\n",
        "    accuracy_score,\n",
        "    precision_score,\n",
        "    recall_score,\n",
        "    f1_score,\n",
        "    roc_auc_score,\n",
        "    roc_curve\n",
        ")\n"
      ]
    },
    {
      "cell_type": "code",
      "execution_count": 18,
      "metadata": {
        "colab": {
          "base_uri": "https://localhost:8080/"
        },
        "id": "yGi6UewRI2N0",
        "outputId": "c3bd5375-a752-4a9b-90c2-892373fe7647"
      },
      "outputs": [
        {
          "name": "stdout",
          "output_type": "stream",
          "text": [
            "Accuracy: 0.7988826815642458\n",
            "Precision: 0.7714285714285715\n",
            "Recall: 0.7297297297297297\n",
            "F1 Score: 0.75\n",
            "ROC AUC Score: 0.8818532818532818\n"
          ]
        }
      ],
      "source": [
        "# Evaluation Metrics\n",
        "print(\"Accuracy:\", accuracy_score(y_test, y_pred))\n",
        "print(\"Precision:\", precision_score(y_test, y_pred))\n",
        "print(\"Recall:\", recall_score(y_test, y_pred))\n",
        "print(\"F1 Score:\", f1_score(y_test, y_pred))\n",
        "print(\"ROC AUC Score:\", roc_auc_score(y_test, y_proba))\n"
      ]
    },
    {
      "cell_type": "code",
      "execution_count": 19,
      "metadata": {
        "colab": {
          "base_uri": "https://localhost:8080/"
        },
        "id": "1z0jq4fmI9hr",
        "outputId": "48fe9ab3-9180-4b7a-84bc-5a6a903c95c6"
      },
      "outputs": [
        {
          "name": "stdout",
          "output_type": "stream",
          "text": [
            "\n",
            "Classification Report:\n",
            "              precision    recall  f1-score   support\n",
            "\n",
            "           0       0.82      0.85      0.83       105\n",
            "           1       0.77      0.73      0.75        74\n",
            "\n",
            "    accuracy                           0.80       179\n",
            "   macro avg       0.79      0.79      0.79       179\n",
            "weighted avg       0.80      0.80      0.80       179\n",
            "\n"
          ]
        }
      ],
      "source": [
        "# Classification Report\n",
        "print(\"\\nClassification Report:\")\n",
        "print(classification_report(y_test, y_pred))\n"
      ]
    },
    {
      "cell_type": "code",
      "execution_count": 13,
      "metadata": {
        "id": "3yxMXkIRHqnv"
      },
      "outputs": [],
      "source": [
        "# Predict on test set (or full data if no split used)\n",
        "X_train, X_test, y_train, y_test = train_test_split(X, y, test_size=0.2, random_state=42)\n",
        "final_model.fit(X_train, y_train)\n",
        "y_pred = final_model.predict(X_test)\n",
        "y_proba = final_model.predict_proba(X_test)[:, 1]  # Probabilities for ROC AUC\n"
      ]
    },
    {
      "cell_type": "code",
      "execution_count": 16,
      "metadata": {
        "colab": {
          "base_uri": "https://localhost:8080/",
          "height": 410
        },
        "id": "xoSIEjYkIetq",
        "outputId": "b0fbf659-4793-4ed4-dcd4-957b9dbb7a41"
      },
      "outputs": [
        {
          "data": {
            "image/png": "[encoded data removed]",
            "text/plain": [
              "<Figure size 600x400 with 2 Axes>"
            ]
          },
          "metadata": {},
          "output_type": "display_data"
        }
      ],
      "source": [
        "# Plot Confusion Matrix\n",
        "cm = confusion_matrix(y_test, y_pred)\n",
        "plt.figure(figsize=(6,4))\n",
        "sns.heatmap(cm, annot=True, fmt='d', cmap=\"Blues\", xticklabels=[\"Not Survived\", \"Survived\"], yticklabels=[\"Not Survived\", \"Survived\"])\n",
        "plt.xlabel(\"Predicted\")\n",
        "plt.ylabel(\"Actual\")\n",
        "plt.title(\"Confusion Matrix\")\n",
        "plt.show()\n"
      ]
    },
    {
      "cell_type": "code",
      "execution_count": 17,
      "metadata": {
        "colab": {
          "base_uri": "https://localhost:8080/",
          "height": 410
        },
        "id": "ijiZ7wZ5Ilmh",
        "outputId": "e12f1602-e701-469f-97ee-cec5075766f1"
      },
      "outputs": [
        {
          "data": {
            "image/png": "[encoded data removed]",
            "text/plain": [
              "<Figure size 600x400 with 1 Axes>"
            ]
          },
          "metadata": {},
          "output_type": "display_data"
        }
      ],
      "source": [
        "# Plot ROC Curve\n",
        "fpr, tpr, thresholds = roc_curve(y_test, y_proba)\n",
        "plt.figure(figsize=(6,4))\n",
        "plt.plot(fpr, tpr, label=f'AUC = {roc_auc_score(y_test, y_proba):.2f}')\n",
        "plt.plot([0, 1], [0, 1], 'k--')\n",
        "plt.xlabel(\"False Positive Rate\")\n",
        "plt.ylabel(\"True Positive Rate\")\n",
        "plt.title(\"ROC Curve\")\n",
        "plt.legend(loc='lower right')\n",
        "plt.grid()\n",
        "plt.show()\n"
      ]
    },
    {
      "cell_type": "code",
      "execution_count": 20,
      "metadata": {
        "id": "LFJ2TyLlJEh7"
      },
      "outputs": [],
      "source": [
        "# Pipeline Integration\n",
        "from sklearn.pipeline import Pipeline\n",
        "from sklearn.compose import ColumnTransformer\n",
        "from sklearn.linear_model import LogisticRegression\n",
        "from sklearn.impute import SimpleImputer\n",
        "from sklearn.preprocessing import StandardScaler, OneHotEncoder\n",
        "from sklearn.model_selection import GridSearchCV, train_test_split\n"
      ]
    },
    {
      "cell_type": "code",
      "execution_count": 21,
      "metadata": {
        "id": "0yGnX-3XJZNX"
      },
      "outputs": [],
      "source": [
        "# Preprocessing components (already defined in Part 2)\n",
        "numeric_transformer = Pipeline(steps=[\n",
        "    (\"imputer\", SimpleImputer(strategy=\"median\")),\n",
        "    (\"scaler\", StandardScaler())\n",
        "])\n"
      ]
    },
    {
      "cell_type": "code",
      "execution_count": 22,
      "metadata": {
        "id": "P1PAfenXJdqR"
      },
      "outputs": [],
      "source": [
        "categorical_transformer = Pipeline(steps=[\n",
        "    (\"imputer\", SimpleImputer(strategy=\"most_frequent\")),\n",
        "    (\"encoder\", OneHotEncoder(handle_unknown=\"ignore\"))\n",
        "])\n",
        "\n",
        "# Combine into full preprocessor\n",
        "preprocessor = ColumnTransformer(transformers=[\n",
        "    (\"num\", numeric_transformer, numerical_cols),\n",
        "    (\"cat\", categorical_transformer, categorical_cols)\n",
        "])"
      ]
    },
    {
      "cell_type": "code",
      "execution_count": 24,
      "metadata": {
        "id": "oLmYr5yAJrK7"
      },
      "outputs": [],
      "source": [
        "# Create full pipeline with Logistic Regression\n",
        "pipeline = Pipeline(steps=[\n",
        "    (\"preprocessor\", preprocessor),\n",
        "    (\"classifier\", LogisticRegression(solver=\"liblinear\", max_iter=1000))\n",
        "])"
      ]
    },
    {
      "cell_type": "code",
      "execution_count": 25,
      "metadata": {
        "id": "zbBpM3m3J9S8"
      },
      "outputs": [],
      "source": [
        "# Define hyperparameter grid\n",
        "param_grid = {\n",
        "    \"classifier__C\": [0.01, 0.1, 1, 10],\n",
        "    \"classifier__penalty\": [\"l1\", \"l2\"]\n",
        "}\n",
        "\n",
        "# Wrap pipeline in GridSearchCV\n",
        "grid_search_pipeline = GridSearchCV(pipeline, param_grid, cv=5, scoring=\"accuracy\", n_jobs=-1)\n",
        "\n",
        "# Split data\n",
        "X_train, X_test, y_train, y_test = train_test_split(X, y, test_size=0.2, random_state=42)\n"
      ]
    },
    {
      "cell_type": "code",
      "execution_count": null,
      "metadata": {
        "colab": {
          "base_uri": "https://localhost:8080/"
        },
        "id": "1BKXM_6-KAjQ",
        "outputId": "598a4699-f797-493e-8ef2-b7086ed67d90"
      },
      "outputs": [
        {
          "name": "stdout",
          "output_type": "stream",
          "text": [
            "✅ Reusable pipeline training complete!\n",
            "Best Parameters: {'classifier__C': 0.1, 'classifier__penalty': 'l2'}\n"
          ]
        }
      ],
      "source": [
        "# Fit pipeline\n",
        "grid_search_pipeline.fit(X_train, y_train)\n",
        "\n",
        "# Final best model\n",
        "best_pipeline = grid_search_pipeline.best_estimator_\n",
        "\n",
        "# Save best model pipeline \n",
        "import joblib\n",
        "joblib.dump(best_pipeline, \"logistic_pipeline_model.pkl\")\n",
        "\n",
        "print(\"✅ Reusable pipeline training complete!\")\n",
        "print(\"Best Parameters:\", grid_search_pipeline.best_params_)\n"
      ]
    },
    {
      "cell_type": "markdown",
      "metadata": {
        "id": "hWVH2yviLIUw"
      },
      "source": [
        "# Machine Learning Pipeline Project Report\n",
        "\n",
        "## Project Overview\n",
        "\n",
        "The objective of this project was to build a complete and reusable machine learning pipeline using a classification algorithm. The chosen supervised learning model was **Logistic Regression**, suitable for binary classification tasks. The Titanic dataset was used as a case study, where the target variable is `survived`, representing passenger survival (1 = survived, 0 = not survived).\n",
        "\n",
        "---\n",
        "\n",
        "## Approach & Rationale\n",
        "\n",
        "### Data Preprocessing\n",
        "\n",
        "We began by handling missing values and irrelevant columns. The pipeline was designed to treat numerical and categorical features differently:\n",
        "\n",
        "- **Numerical features**: Imputed with the median and scaled using StandardScaler.\n",
        "- **Categorical features**: Imputed with the most frequent value and one-hot encoded.\n",
        "\n",
        "This preprocessing logic was encapsulated using `ColumnTransformer` to streamline the data flow.\n",
        "\n",
        "### Model Selection\n",
        "\n",
        "**Logistic Regression** was selected for its simplicity, interpretability, and suitability for binary classification. It provides probabilistic predictions and can be regularized with L1 or L2 penalties.\n",
        "\n",
        "### Hyperparameter Tuning\n",
        "\n",
        "We used `GridSearchCV` for cross-validated hyperparameter tuning. The following parameters were tuned:\n",
        "\n",
        "- `C` (inverse regularization strength)\n",
        "- `penalty` (L1 or L2)\n",
        "\n",
        "The best model was selected using 5-fold cross-validation based on **accuracy** score.\n",
        "\n",
        "---\n",
        "\n",
        "## Evaluation\n",
        "\n",
        "The final model was evaluated on a holdout test set using various metrics:\n",
        "\n",
        "- **Accuracy**: Proportion of correct predictions\n",
        "- **Precision, Recall, F1-Score**: To measure classification effectiveness\n",
        "- **ROC AUC**: To evaluate the model’s ability to distinguish between classes\n",
        "- **Confusion Matrix**: Visualized true vs predicted outcomes\n",
        "\n",
        "These metrics demonstrated that the model performed reliably and was able to generalize well.\n",
        "\n",
        "---\n",
        "\n",
        "## Challenges Faced\n",
        "\n",
        "- **Missing Values**: Some columns (like `age` and `embarked`) had missing entries which needed thoughtful imputation.\n",
        "- **Categorical Encoding**: Ensuring unknown values during testing don't break the model required using `handle_unknown='ignore'`.\n",
        "- **Model Selection**: While logistic regression is interpretable, it may not capture nonlinear patterns as well as tree-based models.\n",
        "\n",
        "---\n",
        "\n",
        "## Future Improvements\n",
        "\n",
        "- Experiment with advanced models like Random Forest, XGBoost, or SVM for better performance.\n",
        "- Include feature selection or PCA for dimensionality reduction.\n",
        "- Integrate the pipeline with **MLflow** or **FastAPI** for deployment in real-time systems.\n",
        "- Handle class imbalance (if applicable) using techniques like SMOTE or class weighting.\n",
        "\n",
        "---\n",
        "\n",
        "## Conclusion\n",
        "\n",
        "This project successfully demonstrated the end-to-end process of building a modular, reusable machine learning pipeline using scikit-learn. The pipeline can be easily extended or deployed into production systems with minimal changes.\n"
      ]
    }
  ],
  "metadata": {
    "colab": {
      "provenance": []
    },
    "kernelspec": {
      "display_name": "Python 3",
      "name": "python3"
    },
    "language_info": {
      "name": "python"
    }
  },
  "nbformat": 4,
  "nbformat_minor": 0
}
